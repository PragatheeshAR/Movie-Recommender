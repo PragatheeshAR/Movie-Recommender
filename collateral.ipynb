{
 "cells": [
  {
   "cell_type": "code",
   "execution_count": 1,
   "id": "589e47cd-ed30-496a-8cf9-0bb7e1ec88b0",
   "metadata": {},
   "outputs": [],
   "source": [
    "import numpy as np\n",
    "import pandas as pd\n",
    "import ast"
   ]
  },
  {
   "cell_type": "code",
   "execution_count": 2,
   "id": "5703ecd8-174a-41ff-82aa-d387e011a1a4",
   "metadata": {},
   "outputs": [],
   "source": [
    "movies = pd.read_csv('imdb_top_1000.csv')"
   ]
  },
  {
   "cell_type": "code",
   "execution_count": 9,
   "id": "f96b33c0-0c99-4f12-b834-a769a635bfd1",
   "metadata": {},
   "outputs": [],
   "source": [
    "movies = movies[['Poster_Link','Series_Title']]"
   ]
  },
  {
   "cell_type": "code",
   "execution_count": 10,
   "id": "92cc5947-6a86-4040-95e3-80d71e0ae98f",
   "metadata": {},
   "outputs": [
    {
     "data": {
      "text/html": [
       "<div>\n",
       "<style scoped>\n",
       "    .dataframe tbody tr th:only-of-type {\n",
       "        vertical-align: middle;\n",
       "    }\n",
       "\n",
       "    .dataframe tbody tr th {\n",
       "        vertical-align: top;\n",
       "    }\n",
       "\n",
       "    .dataframe thead th {\n",
       "        text-align: right;\n",
       "    }\n",
       "</style>\n",
       "<table border=\"1\" class=\"dataframe\">\n",
       "  <thead>\n",
       "    <tr style=\"text-align: right;\">\n",
       "      <th></th>\n",
       "      <th>Poster_Link</th>\n",
       "      <th>Series_Title</th>\n",
       "    </tr>\n",
       "  </thead>\n",
       "  <tbody>\n",
       "    <tr>\n",
       "      <th>0</th>\n",
       "      <td>https://m.media-amazon.com/images/M/MV5BMDFkYT...</td>\n",
       "      <td>The Shawshank Redemption</td>\n",
       "    </tr>\n",
       "    <tr>\n",
       "      <th>1</th>\n",
       "      <td>https://m.media-amazon.com/images/M/MV5BM2MyNj...</td>\n",
       "      <td>The Godfather</td>\n",
       "    </tr>\n",
       "    <tr>\n",
       "      <th>2</th>\n",
       "      <td>https://m.media-amazon.com/images/M/MV5BMTMxNT...</td>\n",
       "      <td>The Dark Knight</td>\n",
       "    </tr>\n",
       "    <tr>\n",
       "      <th>3</th>\n",
       "      <td>https://m.media-amazon.com/images/M/MV5BMWMwMG...</td>\n",
       "      <td>The Godfather: Part II</td>\n",
       "    </tr>\n",
       "    <tr>\n",
       "      <th>4</th>\n",
       "      <td>https://m.media-amazon.com/images/M/MV5BMWU4N2...</td>\n",
       "      <td>12 Angry Men</td>\n",
       "    </tr>\n",
       "  </tbody>\n",
       "</table>\n",
       "</div>"
      ],
      "text/plain": [
       "                                         Poster_Link              Series_Title\n",
       "0  https://m.media-amazon.com/images/M/MV5BMDFkYT...  The Shawshank Redemption\n",
       "1  https://m.media-amazon.com/images/M/MV5BM2MyNj...             The Godfather\n",
       "2  https://m.media-amazon.com/images/M/MV5BMTMxNT...           The Dark Knight\n",
       "3  https://m.media-amazon.com/images/M/MV5BMWMwMG...    The Godfather: Part II\n",
       "4  https://m.media-amazon.com/images/M/MV5BMWU4N2...              12 Angry Men"
      ]
     },
     "execution_count": 10,
     "metadata": {},
     "output_type": "execute_result"
    }
   ],
   "source": [
    "movies.head()"
   ]
  },
  {
   "cell_type": "code",
   "execution_count": 11,
   "id": "09f4d83a-4329-4874-af68-7a682f9e2f42",
   "metadata": {},
   "outputs": [],
   "source": [
    "import pickle"
   ]
  },
  {
   "cell_type": "code",
   "execution_count": 13,
   "id": "d378770f-90cb-43f9-b8b2-e3b09b0396c2",
   "metadata": {},
   "outputs": [],
   "source": [
    "pickle.dump(movies,open('poster.pkl','wb'))"
   ]
  },
  {
   "cell_type": "code",
   "execution_count": null,
   "id": "7833e9dd-74cc-4bcd-894f-ae0205c3583b",
   "metadata": {},
   "outputs": [],
   "source": []
  }
 ],
 "metadata": {
  "kernelspec": {
   "display_name": "Python 3 (ipykernel)",
   "language": "python",
   "name": "python3"
  },
  "language_info": {
   "codemirror_mode": {
    "name": "ipython",
    "version": 3
   },
   "file_extension": ".py",
   "mimetype": "text/x-python",
   "name": "python",
   "nbconvert_exporter": "python",
   "pygments_lexer": "ipython3",
   "version": "3.11.1"
  }
 },
 "nbformat": 4,
 "nbformat_minor": 5
}
